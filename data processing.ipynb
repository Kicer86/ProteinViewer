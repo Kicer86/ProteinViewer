{
 "cells": [
  {
   "cell_type": "markdown",
   "id": "mexican-advancement",
   "metadata": {},
   "source": [
    "# IPYNB for data processing"
   ]
  },
  {
   "cell_type": "code",
   "execution_count": 122,
   "id": "packed-mission",
   "metadata": {},
   "outputs": [],
   "source": [
    "with open('pdb108d.ent') as raw_data:\n",
    "    lines = raw_data.readlines()\n",
    "\n",
    "data = [line.split() for line in lines if line[:4] == 'ATOM']\n",
    "title_raw = [line.split() for line in lines if line[:5] == 'TITLE']"
   ]
  },
  {
   "cell_type": "code",
   "execution_count": 123,
   "id": "assigned-snake",
   "metadata": {},
   "outputs": [
    {
     "data": {
      "text/plain": [
       "'THE SOLUTION STRUCTURE OF A DNA COMPLEX WITH THEFLUORESCENT BIS INTERCALATOR TOTO DETERMINED BY NMRSPECTROSCOPY'"
      ]
     },
     "execution_count": 123,
     "metadata": {},
     "output_type": "execute_result"
    }
   ],
   "source": [
    "title = ''\n",
    "for i in range(len(title_raw)):\n",
    "    if i == 0:\n",
    "        title += ' '.join(title_raw[i][1:])\n",
    "    else:\n",
    "        title += ' '.join(title_raw[i][2:])\n",
    "title"
   ]
  },
  {
   "cell_type": "code",
   "execution_count": 133,
   "id": "greenhouse-ranch",
   "metadata": {},
   "outputs": [],
   "source": [
    "x, y, z = [float(i[6]) for i in data], [float(i[7]) for i in data], [float(i[8]) for i in data]\n",
    "atoms = [i[-1] for i in data]"
   ]
  },
  {
   "cell_type": "code",
   "execution_count": 126,
   "id": "personal-olympus",
   "metadata": {},
   "outputs": [],
   "source": [
    "mass = {'H':1, 'He':4, 'C':12, 'O': 16}"
   ]
  }
 ],
 "metadata": {
  "kernelspec": {
   "display_name": "Python 3",
   "language": "python",
   "name": "python3"
  },
  "language_info": {
   "codemirror_mode": {
    "name": "ipython",
    "version": 3
   },
   "file_extension": ".py",
   "mimetype": "text/x-python",
   "name": "python",
   "nbconvert_exporter": "python",
   "pygments_lexer": "ipython3",
   "version": "3.8.8"
  },
  "varInspector": {
   "cols": {
    "lenName": 16,
    "lenType": 16,
    "lenVar": 40
   },
   "kernels_config": {
    "python": {
     "delete_cmd_postfix": "",
     "delete_cmd_prefix": "del ",
     "library": "var_list.py",
     "varRefreshCmd": "print(var_dic_list())"
    },
    "r": {
     "delete_cmd_postfix": ") ",
     "delete_cmd_prefix": "rm(",
     "library": "var_list.r",
     "varRefreshCmd": "cat(var_dic_list()) "
    }
   },
   "types_to_exclude": [
    "module",
    "function",
    "builtin_function_or_method",
    "instance",
    "_Feature"
   ],
   "window_display": false
  }
 },
 "nbformat": 4,
 "nbformat_minor": 5
}
